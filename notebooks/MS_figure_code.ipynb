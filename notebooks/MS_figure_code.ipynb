{
 "cells": [
  {
   "cell_type": "markdown",
   "metadata": {},
   "source": [
    "# MS figure generation"
   ]
  },
  {
   "cell_type": "markdown",
   "metadata": {},
   "source": [
    "## Setup"
   ]
  },
  {
   "cell_type": "code",
   "execution_count": 2,
   "metadata": {},
   "outputs": [],
   "source": [
    "import re, json, sys\n",
    "from pathlib import Path\n",
    "\n",
    "import matplotlib.pyplot as plt\n",
    "import pandas as pd\n",
    "import seaborn as sns\n",
    "from matplotlib.ticker import MultipleLocator, AutoMinorLocator, ScalarFormatter\n",
    "import numpy as np\n",
    "\n",
    "# load internal functions\n",
    "sys.path.append('../src')\n",
    "from data_vis_utils import *\n",
    "\n",
    "data_dir = Path('../../data')"
   ]
  },
  {
   "cell_type": "markdown",
   "metadata": {},
   "source": [
    "## Fig2"
   ]
  },
  {
   "cell_type": "markdown",
   "metadata": {},
   "source": [
    "### Fig2a (CD scan)"
   ]
  },
  {
   "cell_type": "code",
   "execution_count": 27,
   "metadata": {},
   "outputs": [
    {
     "data": {
      "text/plain": [
       "<matplotlib.lines.Line2D at 0x7fbd84946500>"
      ]
     },
     "execution_count": 27,
     "metadata": {},
     "output_type": "execute_result"
    },
    {
     "data": {
      "image/png": "[encoded data removed]",
      "text/plain": [
       "<Figure size 157.5x157.5 with 1 Axes>"
      ]
     },
     "metadata": {},
     "output_type": "display_data"
    }
   ],
   "source": [
    "# c-reg\n",
    "reg_dir = data_dir / 'CC-Hex2-AB-3-c' / '03_cd' / 'routine'\n",
    "\n",
    "jobplot_dfs = [CircularDiochroismFunctions.make_cd_df(p) for p in reg_dir.glob('*.txt')]\n",
    "jobplot_df = pd.concat(jobplot_dfs, ignore_index=True).fillna(0)\n",
    "\n",
    "# Filter the blank data\n",
    "blank_data = jobplot_df[jobplot_df['type'] == 'blank']\n",
    "\n",
    "# Apply the subtraction function to the original DataFrame\n",
    "jobplot_df['abs_zero_mdeg'] = jobplot_df.apply(\n",
    "    CircularDiochroismFunctions.subtract_blank, \n",
    "    args=[blank_data], \n",
    "    axis=1\n",
    ")\n",
    "\n",
    "# Apply the wrapper function to calculate MRE for each row\n",
    "jobplot_df['mre'] = jobplot_df.apply(CircularDiochroismFunctions.calc_mre_row, axis=1)\n",
    "\n",
    "# plot data\n",
    "sns.set(rc={'figure.figsize':[1.575,1.575], \"font.family\":\"Arial\"}, style='ticks', context='paper')\n",
    "\n",
    "spectrum_ax = plt.subplot2grid((1,1), (0,0))\n",
    "\n",
    "sns.lineplot(\n",
    "    data=jobplot_df.query('type in [\"pre\", \"post\"] and wavelength_nm >= 200'),\n",
    "    x='wavelength_nm',\n",
    "    y='mre',\n",
    "    hue='related_id',\n",
    "    legend=None,\n",
    "    errorbar='sd',\n",
    "    hue_order=['CC-Hex2-A-3-c','CC-Hex2-A-3-c+CC-Hex2-B-3-c','CC-Hex2-B-3-c'],\n",
    "    palette=['#004488', 'black','#bb5566'],\n",
    "    ax=spectrum_ax,\n",
    "    **{'lw':2}\n",
    ")\n",
    "\n",
    "spectrum_ax.set(\n",
    "    xlim=[200,260],\n",
    "    xlabel=r'Wavelength (nm)',\n",
    "    ylabel=r'MRE $\\times$ 10$\\regular{^{-4}}$',\n",
    "    yticks=[0,-20_000,-40_000],\n",
    "    yticklabels=[0,-2,-4],\n",
    "    ylim=[-42500, 10_000]\n",
    ")\n",
    "\n",
    "spectrum_ax.axhline(0, dashes=(2,2), color='.5', zorder=0)\n",
    "\n",
    "# plt.savefig('../../figures/fig2/fig2a.svg', format='svg', transparent=True);\n"
   ]
  },
  {
   "cell_type": "markdown",
   "metadata": {},
   "source": [
    "### Fig2b (CD melt)"
   ]
  },
  {
   "cell_type": "code",
   "execution_count": null,
   "metadata": {},
   "outputs": [
    {
     "data": {
      "image/png": "[encoded data removed]",
      "text/plain": [
       "<Figure size 150x150 with 1 Axes>"
      ]
     },
     "metadata": {},
     "output_type": "display_data"
    }
   ],
   "source": [
    "# c-reg\n",
    "reg_dir = data_dir / 'CC-Hex2-AB-3-c' / '03_cd' / 'routine'\n",
    "\n",
    "jobplot_dfs = [CircularDiochroismFunctions.make_cd_df(p) for p in reg_dir.glob('*.txt')]\n",
    "jobplot_df = pd.concat(jobplot_dfs, ignore_index=True).fillna(0)\n",
    "\n",
    "# Filter the blank data\n",
    "blank_data = jobplot_df[jobplot_df['type'] == 'blank']\n",
    "\n",
    "# Apply the subtraction function to the original DataFrame\n",
    "jobplot_df['abs_zero_mdeg'] = jobplot_df.apply(\n",
    "    CircularDiochroismFunctions.subtract_blank, \n",
    "    args=[blank_data], \n",
    "    axis=1\n",
    ")\n",
    "\n",
    "# Apply the wrapper function to calculate MRE for each row\n",
    "jobplot_df['mre'] = jobplot_df.apply(CircularDiochroismFunctions.calc_mre_row, axis=1)\n",
    "\n",
    "# plot the data\n",
    "sns.set(rc={'figure.figsize':[1.5,1.5], \"font.family\":\"Arial\"}, style='ticks', context='paper')\n",
    "\n",
    "melt_ax = plt.subplot2grid((1,1), (0,0))\n",
    "\n",
    "sns.lineplot(\n",
    "    data=jobplot_df.query('type in [\"melt\", \"cool\"]'),\n",
    "    x='T_C',\n",
    "    y='mre',\n",
    "    hue='related_id',\n",
    "    legend=None,\n",
    "    errorbar='sd',\n",
    "    hue_order=['CC-Hex2-A-3-c','CC-Hex2-A-3-c+CC-Hex2-B-3-c','CC-Hex2-B-3-c'],\n",
    "    palette=['#bb5566', 'black', '#004488'],\n",
    "    ax=melt_ax,\n",
    "    **{'lw':2}\n",
    ")\n",
    "\n",
    "melt_ax.set(\n",
    "    xlim=[5,95],\n",
    "    xlabel=r'Temperature ($\\degree$C)',\n",
    "    ylabel=r'MRE$\\regular{_{222}}$ $\\times$ 10$\\regular{^{-4}}$',\n",
    "    yticks=[0,-20_000,-40_000],\n",
    "    yticklabels=[0,-2,-4],\n",
    "    ylim=[-42500, 10_000]\n",
    ")\n",
    "\n",
    "melt_ax.axhline(0, dashes=(2,2), color='.5', zorder=0)\n",
    "\n",
    "# plt.savefig('../../figures/fig2/fig2b.svg', format='svg', transparent=True);"
   ]
  },
  {
   "cell_type": "markdown",
   "metadata": {},
   "source": [
    "### Fig2c (SV plot)"
   ]
  },
  {
   "cell_type": "code",
   "execution_count": 5,
   "metadata": {},
   "outputs": [
    {
     "data": {
      "text/plain": [
       "[(0.0, 8.0), Text(0, 0.5, 'c(s)')]"
      ]
     },
     "execution_count": 5,
     "metadata": {},
     "output_type": "execute_result"
    },
    {
     "data": {
      "image/png": "[encoded data removed]",
      "text/plain": [
       "<Figure size 150x150 with 1 Axes>"
      ]
     },
     "metadata": {},
     "output_type": "display_data"
    }
   ],
   "source": [
    "# sv \n",
    "sv_dir = Path('../../data/CC-Hex2-AB-3-c/04_sv/repeat_1')\n",
    "auc_sv_data, auc_sv_bitmap, auc_sv_params = AUCanalysis.parse_sv(sv_dir, 2529.435)\n",
    "\n",
    "sns.set(rc={'figure.figsize':[1.5,1.5], \"font.family\":\"Arial\"}, style='ticks', context='paper')\n",
    "\n",
    "sv_ax = plt.subplot2grid((1,1), (0,0))\n",
    "\n",
    "sns.lineplot(\n",
    "    data=auc_sv_data, \n",
    "    x='Sedimentation Coefficient (S)', \n",
    "    y='c(s)', \n",
    "    color='black', \n",
    "    errorbar=None, \n",
    "    ax=sv_ax,\n",
    "    **{'lw':2}\n",
    ")\n",
    "sv_ax.set(xlim=[0,8], ylabel=r\"c(s)\")\n",
    "\n",
    "# plt.savefig('../../figures/fig2/fig2c.svg', format='svg', transparent=True);"
   ]
  },
  {
   "cell_type": "markdown",
   "metadata": {},
   "source": [
    "### Fig2d (SE plot)"
   ]
  },
  {
   "cell_type": "code",
   "execution_count": 8,
   "metadata": {},
   "outputs": [
    {
     "data": {
      "text/plain": [
       "[Text(0, 0.5, 'A$_{280}$'), Text(0.5, 0, 'R$^2$-R$^2_0$ (cm)')]"
      ]
     },
     "execution_count": 8,
     "metadata": {},
     "output_type": "execute_result"
    },
    {
     "data": {
      "image/png": "[encoded data removed]",
      "text/plain": [
       "<Figure size 150x150 with 1 Axes>"
      ]
     },
     "metadata": {},
     "output_type": "display_data"
    }
   ],
   "source": [
    "# se\n",
    "auc_se = pd.read_csv('../../data/CC-Hex2-AB-3-c/05_se/repeat_1/20230915_84uM_CCHex2-A-c_84uM_CCHex2-B-c_25mM_280nm_HBS_2_tidy.csv')\n",
    "\n",
    "auc_se['speed'] = auc_se['speed'].astype(str)\n",
    "channel_to_plot = 'channel_3'\n",
    "\n",
    "pal = ['#BB5566', '#DDAA33', '#004488']\n",
    "\n",
    "se_ax = sns.lineplot(data=auc_se.query('data_type==\"fit\" and channel == @channel_to_plot and speed in [\"24000\",\"32000\",\"40000\"]'),\n",
    "                x='radius',\n",
    "                y='ab',\n",
    "                hue='speed',\n",
    "                palette=['k']*3,\n",
    "                errorbar=None,\n",
    "                legend=None,\n",
    "                **{'lw':2}\n",
    ")\n",
    "\n",
    "sns.scatterplot(data=auc_se.query('data_type==\"raw\" and channel == @channel_to_plot and speed in [\"24000\",\"32000\",\"40000\"]'),\n",
    "                x='radius',\n",
    "                y='ab',\n",
    "                ax=se_ax,\n",
    "                hue='speed',\n",
    "                legend=None)\n",
    "\n",
    "se_ax.set(\n",
    "    ylabel=r'A$_{280}$',\n",
    "    xlabel=r'R$^2$-R$^2_0$ (cm)'\n",
    ")\n",
    "\n",
    "\n",
    "# plt.savefig('../../figures/fig2/fig2d.svg', format='svg', transparent=True);"
   ]
  },
  {
   "cell_type": "markdown",
   "metadata": {},
   "source": [
    "### Fig2e (CD jobplot)"
   ]
  },
  {
   "cell_type": "code",
   "execution_count": null,
   "metadata": {},
   "outputs": [],
   "source": [
    "jobplot_dir = data_dir / 'CC-Hex2-AB-3-c' / '03_cd' / 'jobplot'\n",
    "jobplot_paths = sorted(jobplot_dir.glob('*.txt'))\n",
    "\n",
    "jobplot_dfs = [CircularDiochroismFunctions.make_cd_df(p) for p in jobplot_paths]\n",
    "jobplot_df = pd.concat(jobplot_dfs, ignore_index=True).fillna(0)\n",
    "\n",
    "# Filter the blank data\n",
    "blank_data = jobplot_df[jobplot_df['type'] == 'blank']\n",
    "\n",
    "# Apply the subtraction function to the original DataFrame\n",
    "jobplot_df['abs_zero_mdeg'] = jobplot_df.apply(\n",
    "    CircularDiochroismFunctions.subtract_blank, \n",
    "    args=[blank_data], \n",
    "    axis=1\n",
    ")\n",
    "\n",
    "# Apply the wrapper function to calculate MRE for each row\n",
    "jobplot_df['mre'] = jobplot_df.apply(CircularDiochroismFunctions.calc_mre_row, axis=1)\n",
    "\n",
    "# Make ratio id\n",
    "jobplot_df['ratio'] = jobplot_df['conc_uM_1'].astype(str) + \"_\" + jobplot_df['conc_uM_2'].astype(str)\n",
    "\n",
    "# List of unique labels in the order you want them to appear\n",
    "label_order = [\n",
    "    '60.0_0.0', '50.0_10.0', '40.0_20.0', '30.0_30.0', \n",
    "    '20.0_40.0', '10.0_50.0', '0.0_60.0'\n",
    "]\n",
    "\n",
    "# Convert the 'labels' column to a categorical data type with the given order\n",
    "jobplot_df['ratio'] = pd.Categorical(jobplot_df['ratio'], categories=label_order, ordered=True)\n",
    "\n",
    "# Sort the DataFrame based on the 'labels' column\n",
    "jobplot_df = jobplot_df.sort_values('ratio')\n",
    "\n",
    "# plot data\n",
    "custom_palette = sns.blend_palette(['#bb5566', 'black', '#004488'], n_colors=7)\n",
    "\n",
    "sns.set(rc={'figure.figsize':[1.5,1.5], \"font.family\":\"Arial\"}, style='ticks', context='paper')\n",
    "\n",
    "job_ax = plt.subplot2grid((1,1), (0,0))\n",
    "\n",
    "sns.pointplot(\n",
    "    data = jobplot_df.query('wavelength_nm==222'),\n",
    "    x='ratio', \n",
    "    y='mre', \n",
    "    hue='ratio', \n",
    "    errorbar='sd',\n",
    "    palette=custom_palette,\n",
    "    capsize=0.1,\n",
    "    err_kws={'linewidth': 3},\n",
    "    ax=job_ax\n",
    ")\n",
    "job_ax.get_legend().remove()\n",
    "job_ax.set(\n",
    "    xlabel=r'A:B ($\\regular{\\mu}M$)',\n",
    "    ylabel=r'MRE$\\regular{_{222}}$ $\\times$ 10$\\regular{^{-4}}$',\n",
    "    yticks=[0,-20_000,-40_000],\n",
    "    yticklabels=[0,-2,-4],\n",
    "    ylim=[-42500, 10_000]\n",
    ")\n",
    "\n",
    "job_ax.set_xticklabels(['60:0', '50:10', '40:20', '30:30', '20:40', '50:10', '0:60'], rotation=-45)\n",
    "\n",
    "job_ax.axhline(0, dashes=(2,2), color='.5', zorder=0)\n",
    "\n",
    "# plt.savefig('../../figuresfigures/fig2/fig2e.svg', format='svg', transparent=True);"
   ]
  },
  {
   "cell_type": "markdown",
   "metadata": {},
   "source": [
    "### Fig2f (DPH Binding)"
   ]
  },
  {
   "cell_type": "code",
   "execution_count": null,
   "metadata": {},
   "outputs": [
    {
     "data": {
      "image/png": "[encoded data removed]",
      "text/plain": [
       "<Figure size 150x150 with 1 Axes>"
      ]
     },
     "metadata": {},
     "output_type": "display_data"
    }
   ],
   "source": [
    "# for p in data_dir.glob('**/06_dph/*.xlsx'):\n",
    "#     analysis = DPHBindingAnalysis(p)\n",
    "#     analysis.tidy_data()\n",
    "#     analysis.fit_and_evaluate_model()\n",
    "#     analysis.write_log()\n",
    "\n",
    "dph_data = pd.read_csv(\n",
    "    data_dir / 'CC-Hex2-AB-3-c/06_dph/20230907_2-5_150uM_CC-Hex2-AB-3-c_HBS_5pc_DMSO_1uM_DPH_t2.csv'\n",
    ")\n",
    "with open(data_dir / 'CC-Hex2-AB-3-c/06_dph/20230907_2-5_150uM_CC-Hex2-AB-3-c_HBS_5pc_DMSO_1uM_DPH_t2.json' 'r') as f:\n",
    "    dph_params = json.load(f)\n",
    "\n",
    "sns.set(rc={'figure.figsize':[1.5,1.5], \"font.family\":\"Arial\"}, style='ticks', context='paper')\n",
    "\n",
    "dph_ax = plt.subplot2grid((1,1), (0,0))\n",
    "\n",
    "x_raw = dph_data.groupby('conc_uM')['conc_uM'].mean()\n",
    "y_raw = dph_data.groupby('conc_uM')['norm_int_AU'].mean()\n",
    "yerr = dph_data.groupby('conc_uM')['norm_int_AU'].std()\n",
    "\n",
    "x_values = np.linspace(0, max(dph_data['conc_uM']), 151)\n",
    "y_values = DPHBindingAnalysis.single_site(x_values, *dph_params['fit_metrics']['params'])\n",
    "dph_ax.errorbar(\n",
    "    x_raw,\n",
    "    y_raw,\n",
    "    yerr=yerr,\n",
    "    fmt='o',\n",
    "    label='Data',\n",
    "    color='k',\n",
    "    mec='white',\n",
    "    ms=7,\n",
    "    capsize=3,\n",
    "    elinewidth=2,\n",
    "    capthick=2\n",
    ")\n",
    "dph_ax.plot(x_values, y_values, label='Fit', linewidth=2, color='k')\n",
    "dph_ax.set(\n",
    "    xticks=np.linspace(0,150, 6),\n",
    "    xlabel=r'Assembly ($\\regular{\\mu}$M)',\n",
    "    ylabel='Norm. Int. (AU)',\n",
    "    xticklabels=[int(x/6) for x in np.linspace(0,150, 6)]\n",
    ");\n",
    "\n",
    "# plt.savefig('../figures/fig2/fig2f.svg', format='svg', transparent=True);\n"
   ]
  },
  {
   "cell_type": "markdown",
   "metadata": {},
   "source": [
    "### Fig2h (quenching experiment)"
   ]
  },
  {
   "cell_type": "code",
   "execution_count": 34,
   "metadata": {},
   "outputs": [
    {
     "data": {
      "image/png": "[encoded data removed]",
      "text/plain": [
       "<Figure size 150x150 with 1 Axes>"
      ]
     },
     "metadata": {},
     "output_type": "display_data"
    }
   ],
   "source": [
    "df_c = pd.DataFrame()\n",
    "for txt in Path(\"../../data/CC-Hex2-AB-3-c/07_quenching\").glob(\"*.txt\"):\n",
    "    df_c0 = pd.read_csv(txt, skiprows=18, names=['wavelength_nm', 'int'], sep='\\t')\n",
    "    df_c0[\"peptides\"] = re.search(\"quenching_(.*)_[a-z]+_\\d$\", txt.stem).group(1)\n",
    "    df_c0[\"repeat\"] = txt.stem[-1]\n",
    "    df_c0[\"annealing\"] = re.search(\"([a-z]+)_\\d$\", txt.stem).group(1)\n",
    "    df_c = pd.concat([df_c, df_c0], ignore_index=True)\n",
    "df_c[\"int_norm\"] = (df_c['int'] - df_c['int'].min()) / (df_c['int'].max() - df_c['int'].min())\n",
    "\n",
    "sns.set(rc={'figure.figsize':[1.5,1.5], \"font.family\":\"Arial\"}, style='ticks', context='paper')\n",
    "\n",
    "quench_ax = plt.subplot2grid((1,1), (0,0))\n",
    "\n",
    "sns.lineplot(\n",
    "    data=df_c.query('annealing == \"post\"'),\n",
    "    y='int_norm',\n",
    "    x='wavelength_nm',\n",
    "    errorbar='sd',\n",
    "    estimator=np.mean,\n",
    "    hue_order = [\"CC-Hex2-A-3-c-cMSe_CC-Hex2-B-3-c-n4CF\", \"CC-Hex2-A-3-c-cMSe_CC-Hex2-B-3-c-c4CF\"],\n",
    "    hue='peptides',\n",
    "    legend = None,\n",
    "    **{'lw':2}\n",
    ")\n",
    "\n",
    "quench_ax.set(\n",
    "    xticks=np.linspace(260,400, 5),\n",
    "    xlim=[260,400],\n",
    "    ylim=[0,1],\n",
    "    yticks=[0,0.5,1],\n",
    "    ylabel = r'Norm. Int. (AU)',\n",
    "    xlabel=\"Wavelength (nm)\"\n",
    ");\n",
    "\n",
    "# plt.savefig('../../figures/fig2/fig2h.svg', format='svg', transparent=True);\n"
   ]
  },
  {
   "cell_type": "markdown",
   "metadata": {},
   "source": [
    "## Fig3"
   ]
  },
  {
   "cell_type": "markdown",
   "metadata": {},
   "source": [
    "### Fig3b (g-reg quenching)"
   ]
  },
  {
   "cell_type": "code",
   "execution_count": 45,
   "metadata": {},
   "outputs": [
    {
     "data": {
      "image/png": "[encoded data removed]",
      "text/plain": [
       "<Figure size 200x200 with 1 Axes>"
      ]
     },
     "metadata": {},
     "output_type": "display_data"
    }
   ],
   "source": [
    "# g-reg fluorescence assay\n",
    "\n",
    "df_g = pd.DataFrame()\n",
    "for txt in Path(\"../data/cchex2ab-g/07_quenching\").glob(\"*.txt\"):\n",
    "    df_g0 = pd.read_csv(txt, skiprows=18, names=['wavelength_nm', 'int'], sep='\\t')\n",
    "    df_g0[\"peptides\"] = re.search(\"quenching_(.*)_[a-z]+_\\d$\", txt.stem).group(1)\n",
    "    df_g0[\"repeat\"] = txt.stem[-1]\n",
    "    df_g0[\"annealing\"] = re.search(\"([a-z]+)_\\d$\", txt.stem).group(1)\n",
    "    df_g = pd.concat([df_g, df_g0], ignore_index=True)\n",
    "df_g[\"int_norm\"] = (df_g['int'] - df_g['int'].min()) / (df_g['int'].max() - df_g['int'].min())\n",
    "\n",
    "df_g.peptides.unique()\n",
    "\n",
    "sns.set(rc={'figure.figsize':[2,2], \"font.family\":\"Arial\"}, style='ticks', context='paper')\n",
    "\n",
    "quench_ax_g = sns.lineplot(\n",
    "    data=df_g,\n",
    "    y='int_norm',\n",
    "    x='wavelength_nm',\n",
    "    errorbar='sd',\n",
    "    estimator=np.mean,\n",
    "    hue_order = [\"CCHex2A-g-Mse_CCHex2B-g-CNF1\", \"CCHex2A-g-Mse_CCHex2B-g-CNF2\"],\n",
    "    hue='peptides',\n",
    "    legend = None,\n",
    "    **{'lw':2}\n",
    ")\n",
    "\n",
    "quench_ax_g.set(\n",
    "    xticks=np.linspace(260,400, 5),\n",
    "    xlim=[260,400],\n",
    "    ylim=[0,1],\n",
    "    yticks=[0,0.5,1],\n",
    "    ylabel = r'Norm. Int. (AU)',\n",
    "    xlabel=\"Wavelength (nm)\"\n",
    ")\n",
    "\n",
    "plt.savefig('../figures/fig3/fig3b.svg', format='svg', transparent=True);"
   ]
  },
  {
   "cell_type": "markdown",
   "metadata": {},
   "source": [
    "### Fig3c (b-reg quenching)"
   ]
  },
  {
   "cell_type": "code",
   "execution_count": 46,
   "metadata": {},
   "outputs": [
    {
     "data": {
      "image/png": "[encoded data removed]",
      "text/plain": [
       "<Figure size 200x200 with 1 Axes>"
      ]
     },
     "metadata": {},
     "output_type": "display_data"
    }
   ],
   "source": [
    "# b-reg fluorescence assay\n",
    "\n",
    "df_b = pd.DataFrame()\n",
    "for txt in Path(\"../data/cchex2ab-b/07_quenching\").glob(\"*.txt\"):\n",
    "    df_b0 = pd.read_csv(txt, skiprows=18, names=['wavelength_nm', 'int'], sep='\\t')\n",
    "    df_b0[\"peptides\"] = re.search(\"quenching_(.*)_t*\\d\", txt.stem).group(1)\n",
    "    df_b0[\"repeat\"] = txt.stem[-1]\n",
    "    # df_b0[\"annealing\"] = re.search(\"([a-z]+)_\\d$\", txt.stem).group(1)\n",
    "    df_b = pd.concat([df_b, df_b0], ignore_index=True)\n",
    "df_b[\"int_norm\"] = (df_b['int'] - df_b['int'].min()) / (df_b['int'].max() - df_b['int'].min())\n",
    "\n",
    "sns.set(rc={'figure.figsize':[2,2], \"font.family\":\"Arial\"}, style='ticks', context='paper')\n",
    "\n",
    "quench_ax_b = sns.lineplot(\n",
    "    data=df_b,\n",
    "    y='int_norm',\n",
    "    x='wavelength_nm',\n",
    "    errorbar='sd',\n",
    "    estimator=np.mean,\n",
    "    hue_order = [\"CCHex2A-b-Mse_CCHex2B-b-CNF1_t30\", \"CCHex2A-b-Mse_CCHex2B-b-CNF2_t30\"],\n",
    "    hue='peptides',\n",
    "    legend = None,\n",
    "    **{'lw':2}\n",
    ")\n",
    "\n",
    "quench_ax_b.set(\n",
    "    xticks=np.linspace(260,400, 5),\n",
    "    xlim=[260,400],\n",
    "    ylim=[0,1],\n",
    "    yticks=[0,0.5,1],\n",
    "    ylabel = r'Norm. Int. (AU)',\n",
    "    xlabel=\"Wavelength (nm)\"\n",
    ")\n",
    "\n",
    "plt.savefig('../figures/fig3/fig3c.svg', format='svg', transparent=True);"
   ]
  },
  {
   "cell_type": "markdown",
   "metadata": {},
   "source": [
    "## Fig4"
   ]
  },
  {
   "cell_type": "markdown",
   "metadata": {},
   "source": [
    "### Fig4e"
   ]
  },
  {
   "cell_type": "code",
   "execution_count": 15,
   "metadata": {},
   "outputs": [
    {
     "name": "stderr",
     "output_type": "stream",
     "text": [
      "/var/folders/nr/f_s693214v54fjs9khpwyfnc0000gq/T/ipykernel_32580/2328307641.py:8: FutureWarning: \n",
      "\n",
      "Passing `palette` without assigning `hue` is deprecated and will be removed in v0.14.0. Assign the `x` variable to `hue` and set `legend=False` for the same effect.\n",
      "\n",
      "  g = sns.barplot(\n",
      "/var/folders/nr/f_s693214v54fjs9khpwyfnc0000gq/T/ipykernel_32580/2328307641.py:8: UserWarning: The palette list has more values (10) than needed (3), which may not be intended.\n",
      "  g = sns.barplot(\n",
      "/var/folders/nr/f_s693214v54fjs9khpwyfnc0000gq/T/ipykernel_32580/2328307641.py:21: UserWarning: FixedFormatter should only be used together with FixedLocator\n",
      "  g.set_xticklabels(g.get_xticklabels(), fontstyle='italic', fontweight='bold');\n"
     ]
    },
    {
     "data": {
      "image/png": "[encoded data removed]",
      "text/plain": [
       "<Figure size 150x150 with 1 Axes>"
      ]
     },
     "metadata": {},
     "output_type": "display_data"
    }
   ],
   "source": [
    "\n",
    "# load in the AF2 analysis\n",
    "dZ_df = pd.read_csv('../../data/colabfold/af_scores_dZ.csv')\n",
    "\n",
    "# Set up the plotting parameters using seaborn (small figure size, specific style and context)\n",
    "sns.set(rc={'figure.figsize': [1.5, 1.5]}, style='ticks', context='paper')\n",
    "\n",
    "# Create a bar plot of the Z-shift ('dZ') for anti-parallel ('ap') structures where ipTM > 0.7\n",
    "g = sns.barplot(\n",
    "    data=dZ_df.query('orientation==\"ap\" and register in [\"g\", \"b\", \"c\"] and iptm > 0.7'), \n",
    "    x='register', \n",
    "    y='dZ', \n",
    "    errorbar='sd', \n",
    "    edgecolor='black', \n",
    "    lw=1.5, \n",
    "    capsize=0.2,\n",
    "    palette=sns.color_palette()\n",
    ")\n",
    "\n",
    "# Set axis labels and modify tick labels with italic font style and bold weight\n",
    "g.set(xlabel='Starting register', ylabel=r'Predicted $Z$-shift (Å)')\n",
    "g.set_xticklabels(g.get_xticklabels(), fontstyle='italic', fontweight='bold');\n"
   ]
  }
 ],
 "metadata": {
  "kernelspec": {
   "display_name": "analysis_env",
   "language": "python",
   "name": "python3"
  },
  "language_info": {
   "codemirror_mode": {
    "name": "ipython",
    "version": 3
   },
   "file_extension": ".py",
   "mimetype": "text/x-python",
   "name": "python",
   "nbconvert_exporter": "python",
   "pygments_lexer": "ipython3",
   "version": "3.10.13"
  },
  "orig_nbformat": 4
 },
 "nbformat": 4,
 "nbformat_minor": 2
}
